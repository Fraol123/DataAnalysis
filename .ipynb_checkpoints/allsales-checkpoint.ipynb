{
 "cells": [
  {
   "cell_type": "code",
   "execution_count": 53,
   "id": "ac68d3cc-c158-4f6d-93ea-4838c139dcc5",
   "metadata": {},
   "outputs": [],
   "source": [
    "import os\n",
    "import pandas as pd\n",
    "import matplotlib.pyplot as plt"
   ]
  },
  {
   "cell_type": "code",
   "execution_count": 90,
   "id": "71b31757-0d1c-4f06-8e32-27e156c51526",
   "metadata": {},
   "outputs": [],
   "source": [
    "df = pd.read_csv(\"jan-march 23.csv\")"
   ]
  },
  {
   "cell_type": "code",
   "execution_count": 91,
   "id": "d5609214-be5e-44be-b7b0-c327eee32a61",
   "metadata": {},
   "outputs": [
    {
     "data": {
      "text/html": [
       "<div>\n",
       "<style scoped>\n",
       "    .dataframe tbody tr th:only-of-type {\n",
       "        vertical-align: middle;\n",
       "    }\n",
       "\n",
       "    .dataframe tbody tr th {\n",
       "        vertical-align: top;\n",
       "    }\n",
       "\n",
       "    .dataframe thead th {\n",
       "        text-align: right;\n",
       "    }\n",
       "</style>\n",
       "<table border=\"1\" class=\"dataframe\">\n",
       "  <thead>\n",
       "    <tr style=\"text-align: right;\">\n",
       "      <th></th>\n",
       "      <th>Sale ID</th>\n",
       "      <th>User</th>\n",
       "      <th>User name</th>\n",
       "      <th>User last name</th>\n",
       "      <th>Time</th>\n",
       "      <th>Date</th>\n",
       "      <th>Outlet ID</th>\n",
       "      <th>Outlet</th>\n",
       "      <th>TIN</th>\n",
       "      <th>Outlet Segment</th>\n",
       "      <th>...</th>\n",
       "      <th>Territory</th>\n",
       "      <th>District</th>\n",
       "      <th>Price without VAT</th>\n",
       "      <th>Vat</th>\n",
       "      <th>Price with VAT</th>\n",
       "      <th>Item name</th>\n",
       "      <th>Item quantity</th>\n",
       "      <th>Item price without VAT</th>\n",
       "      <th>Item VAT</th>\n",
       "      <th>Item price with VAT</th>\n",
       "    </tr>\n",
       "  </thead>\n",
       "  <tbody>\n",
       "    <tr>\n",
       "      <th>0</th>\n",
       "      <td>623b6e662cea787bef01dbee</td>\n",
       "      <td>biruk.mehari</td>\n",
       "      <td>Biruk</td>\n",
       "      <td>Mehari</td>\n",
       "      <td>22:00</td>\n",
       "      <td>3/23/2022</td>\n",
       "      <td>6159f38bbab1dd88bd6a349a</td>\n",
       "      <td>Getachew Grocery</td>\n",
       "      <td>48604730</td>\n",
       "      <td>Star Hotels</td>\n",
       "      <td>...</td>\n",
       "      <td>EAST ADDIS</td>\n",
       "      <td>ADDIS ABABA</td>\n",
       "      <td>1052.18</td>\n",
       "      <td>157.82</td>\n",
       "      <td>1210.0</td>\n",
       "      <td>Lime</td>\n",
       "      <td>1</td>\n",
       "      <td>526.09</td>\n",
       "      <td>78.91</td>\n",
       "      <td>605.0</td>\n",
       "    </tr>\n",
       "    <tr>\n",
       "      <th>1</th>\n",
       "      <td>623b6e662cea787bef01dbee</td>\n",
       "      <td>biruk.mehari</td>\n",
       "      <td>Biruk</td>\n",
       "      <td>Mehari</td>\n",
       "      <td>22:00</td>\n",
       "      <td>3/23/2022</td>\n",
       "      <td>6159f38bbab1dd88bd6a349a</td>\n",
       "      <td>Getachew Grocery</td>\n",
       "      <td>48604730</td>\n",
       "      <td>Star Hotels</td>\n",
       "      <td>...</td>\n",
       "      <td>EAST ADDIS</td>\n",
       "      <td>ADDIS ABABA</td>\n",
       "      <td>1052.18</td>\n",
       "      <td>157.82</td>\n",
       "      <td>1210.0</td>\n",
       "      <td>PG</td>\n",
       "      <td>1</td>\n",
       "      <td>526.09</td>\n",
       "      <td>78.91</td>\n",
       "      <td>605.0</td>\n",
       "    </tr>\n",
       "    <tr>\n",
       "      <th>2</th>\n",
       "      <td>623b48e82cea787bef01da6e</td>\n",
       "      <td>zelalem.ayeche</td>\n",
       "      <td>Zelalem</td>\n",
       "      <td>Ayeche</td>\n",
       "      <td>19:20</td>\n",
       "      <td>3/23/2022</td>\n",
       "      <td>6159f38bbab1dd88bd6a3cb0</td>\n",
       "      <td>Merry Grocery</td>\n",
       "      <td>63059946</td>\n",
       "      <td>Star Hotels</td>\n",
       "      <td>...</td>\n",
       "      <td>SOUTH ADDIS</td>\n",
       "      <td>ADDIS ABABA</td>\n",
       "      <td>1578.27</td>\n",
       "      <td>236.73</td>\n",
       "      <td>1815.0</td>\n",
       "      <td>Apple</td>\n",
       "      <td>1</td>\n",
       "      <td>526.09</td>\n",
       "      <td>78.91</td>\n",
       "      <td>605.0</td>\n",
       "    </tr>\n",
       "    <tr>\n",
       "      <th>3</th>\n",
       "      <td>623b48e82cea787bef01da6e</td>\n",
       "      <td>zelalem.ayeche</td>\n",
       "      <td>Zelalem</td>\n",
       "      <td>Ayeche</td>\n",
       "      <td>19:20</td>\n",
       "      <td>3/23/2022</td>\n",
       "      <td>6159f38bbab1dd88bd6a3cb0</td>\n",
       "      <td>Merry Grocery</td>\n",
       "      <td>63059946</td>\n",
       "      <td>Star Hotels</td>\n",
       "      <td>...</td>\n",
       "      <td>SOUTH ADDIS</td>\n",
       "      <td>ADDIS ABABA</td>\n",
       "      <td>1578.27</td>\n",
       "      <td>236.73</td>\n",
       "      <td>1815.0</td>\n",
       "      <td>Lime</td>\n",
       "      <td>2</td>\n",
       "      <td>1052.18</td>\n",
       "      <td>157.82</td>\n",
       "      <td>1210.0</td>\n",
       "    </tr>\n",
       "    <tr>\n",
       "      <th>4</th>\n",
       "      <td>623b48df2cea787bef01da6a</td>\n",
       "      <td>zelalem.ayeche</td>\n",
       "      <td>Zelalem</td>\n",
       "      <td>Ayeche</td>\n",
       "      <td>19:20</td>\n",
       "      <td>3/23/2022</td>\n",
       "      <td>6159f38bbab1dd88bd6a4678</td>\n",
       "      <td>Tsega Grocery</td>\n",
       "      <td>11276822</td>\n",
       "      <td>Star Hotels</td>\n",
       "      <td>...</td>\n",
       "      <td>SOUTH ADDIS</td>\n",
       "      <td>ADDIS ABABA</td>\n",
       "      <td>2104.36</td>\n",
       "      <td>315.64</td>\n",
       "      <td>2420.0</td>\n",
       "      <td>Apple</td>\n",
       "      <td>1</td>\n",
       "      <td>526.09</td>\n",
       "      <td>78.91</td>\n",
       "      <td>605.0</td>\n",
       "    </tr>\n",
       "  </tbody>\n",
       "</table>\n",
       "<p>5 rows × 22 columns</p>\n",
       "</div>"
      ],
      "text/plain": [
       "                    Sale ID            User User name User last name   Time  \\\n",
       "0  623b6e662cea787bef01dbee    biruk.mehari     Biruk         Mehari  22:00   \n",
       "1  623b6e662cea787bef01dbee    biruk.mehari     Biruk         Mehari  22:00   \n",
       "2  623b48e82cea787bef01da6e  zelalem.ayeche   Zelalem         Ayeche  19:20   \n",
       "3  623b48e82cea787bef01da6e  zelalem.ayeche   Zelalem         Ayeche  19:20   \n",
       "4  623b48df2cea787bef01da6a  zelalem.ayeche   Zelalem         Ayeche  19:20   \n",
       "\n",
       "        Date                 Outlet ID             Outlet       TIN  \\\n",
       "0  3/23/2022  6159f38bbab1dd88bd6a349a  Getachew Grocery   48604730   \n",
       "1  3/23/2022  6159f38bbab1dd88bd6a349a  Getachew Grocery   48604730   \n",
       "2  3/23/2022  6159f38bbab1dd88bd6a3cb0      Merry Grocery  63059946   \n",
       "3  3/23/2022  6159f38bbab1dd88bd6a3cb0      Merry Grocery  63059946   \n",
       "4  3/23/2022  6159f38bbab1dd88bd6a4678      Tsega Grocery  11276822   \n",
       "\n",
       "  Outlet Segment  ...    Territory     District Price without VAT     Vat  \\\n",
       "0    Star Hotels  ...   EAST ADDIS  ADDIS ABABA           1052.18  157.82   \n",
       "1    Star Hotels  ...   EAST ADDIS  ADDIS ABABA           1052.18  157.82   \n",
       "2    Star Hotels  ...  SOUTH ADDIS  ADDIS ABABA           1578.27  236.73   \n",
       "3    Star Hotels  ...  SOUTH ADDIS  ADDIS ABABA           1578.27  236.73   \n",
       "4    Star Hotels  ...  SOUTH ADDIS  ADDIS ABABA           2104.36  315.64   \n",
       "\n",
       "   Price with VAT  Item name  Item quantity Item price without VAT  Item VAT  \\\n",
       "0          1210.0       Lime              1                 526.09     78.91   \n",
       "1          1210.0         PG              1                 526.09     78.91   \n",
       "2          1815.0      Apple              1                 526.09     78.91   \n",
       "3          1815.0       Lime              2                1052.18    157.82   \n",
       "4          2420.0      Apple              1                 526.09     78.91   \n",
       "\n",
       "   Item price with VAT  \n",
       "0                605.0  \n",
       "1                605.0  \n",
       "2                605.0  \n",
       "3               1210.0  \n",
       "4                605.0  \n",
       "\n",
       "[5 rows x 22 columns]"
      ]
     },
     "execution_count": 91,
     "metadata": {},
     "output_type": "execute_result"
    }
   ],
   "source": [
    "df.head()"
   ]
  },
  {
   "cell_type": "markdown",
   "id": "0279e60a-79d2-4c2d-a97d-42f29489f95e",
   "metadata": {},
   "source": [
    "### Cleaning up the data\n"
   ]
  },
  {
   "cell_type": "code",
   "execution_count": 6,
   "id": "12816195-9e82-497d-8e31-3bd0c2ca0696",
   "metadata": {},
   "outputs": [
    {
     "data": {
      "text/plain": [
       "True"
      ]
     },
     "execution_count": 6,
     "metadata": {},
     "output_type": "execute_result"
    }
   ],
   "source": [
    "df.isnull().values.any()\n"
   ]
  },
  {
   "cell_type": "code",
   "execution_count": 67,
   "id": "a6edac4e-f7a0-4c55-9c14-5c296cf14eca",
   "metadata": {},
   "outputs": [
    {
     "data": {
      "text/plain": [
       "True"
      ]
     },
     "execution_count": 67,
     "metadata": {},
     "output_type": "execute_result"
    }
   ],
   "source": [
    "df.isnull().values.any()"
   ]
  },
  {
   "cell_type": "markdown",
   "id": "928f226b-f3b6-4a0b-a71d-e0e3b0687a99",
   "metadata": {},
   "source": [
    "#### make Columns to correct data taype "
   ]
  },
  {
   "cell_type": "code",
   "execution_count": 16,
   "id": "7ac329c0-46c6-446d-b3d7-a56957edfa0e",
   "metadata": {},
   "outputs": [],
   "source": [
    "df['Total'] = pd.to_numeric(df['Total'])"
   ]
  },
  {
   "cell_type": "code",
   "execution_count": 27,
   "id": "b3e10a4c-da0a-4d38-9ff5-30cb5245041b",
   "metadata": {},
   "outputs": [
    {
     "data": {
      "text/plain": [
       "pandas.core.series.Series"
      ]
     },
     "execution_count": 27,
     "metadata": {},
     "output_type": "execute_result"
    }
   ],
   "source": [
    "type(df['Sales Date'])"
   ]
  },
  {
   "cell_type": "code",
   "execution_count": 92,
   "id": "61a30c6e-d4f3-4dfc-9176-e84c08e74f62",
   "metadata": {},
   "outputs": [
    {
     "ename": "AttributeError",
     "evalue": "Can only use .dt accessor with datetimelike values",
     "output_type": "error",
     "traceback": [
      "\u001b[1;31m---------------------------------------------------------------------------\u001b[0m",
      "\u001b[1;31mAttributeError\u001b[0m                            Traceback (most recent call last)",
      "\u001b[1;32m~\\AppData\\Local\\Temp/ipykernel_6016/2790439986.py\u001b[0m in \u001b[0;36m<module>\u001b[1;34m\u001b[0m\n\u001b[1;32m----> 1\u001b[1;33m \u001b[0mdf\u001b[0m\u001b[1;33m[\u001b[0m\u001b[1;34m'Date'\u001b[0m\u001b[1;33m]\u001b[0m \u001b[1;33m=\u001b[0m \u001b[0mdf\u001b[0m\u001b[1;33m[\u001b[0m\u001b[1;34m'Date'\u001b[0m\u001b[1;33m]\u001b[0m\u001b[1;33m.\u001b[0m\u001b[0mdt\u001b[0m\u001b[1;33m.\u001b[0m\u001b[0mstrftime\u001b[0m\u001b[1;33m(\u001b[0m\u001b[1;34m'%d-%m%Y'\u001b[0m\u001b[1;33m)\u001b[0m\u001b[1;33m\u001b[0m\u001b[1;33m\u001b[0m\u001b[0m\n\u001b[0m",
      "\u001b[1;32m~\\anaconda3\\lib\\site-packages\\pandas\\core\\generic.py\u001b[0m in \u001b[0;36m__getattr__\u001b[1;34m(self, name)\u001b[0m\n\u001b[0;32m   5485\u001b[0m         ):\n\u001b[0;32m   5486\u001b[0m             \u001b[1;32mreturn\u001b[0m \u001b[0mself\u001b[0m\u001b[1;33m[\u001b[0m\u001b[0mname\u001b[0m\u001b[1;33m]\u001b[0m\u001b[1;33m\u001b[0m\u001b[1;33m\u001b[0m\u001b[0m\n\u001b[1;32m-> 5487\u001b[1;33m         \u001b[1;32mreturn\u001b[0m \u001b[0mobject\u001b[0m\u001b[1;33m.\u001b[0m\u001b[0m__getattribute__\u001b[0m\u001b[1;33m(\u001b[0m\u001b[0mself\u001b[0m\u001b[1;33m,\u001b[0m \u001b[0mname\u001b[0m\u001b[1;33m)\u001b[0m\u001b[1;33m\u001b[0m\u001b[1;33m\u001b[0m\u001b[0m\n\u001b[0m\u001b[0;32m   5488\u001b[0m \u001b[1;33m\u001b[0m\u001b[0m\n\u001b[0;32m   5489\u001b[0m     \u001b[1;32mdef\u001b[0m \u001b[0m__setattr__\u001b[0m\u001b[1;33m(\u001b[0m\u001b[0mself\u001b[0m\u001b[1;33m,\u001b[0m \u001b[0mname\u001b[0m\u001b[1;33m:\u001b[0m \u001b[0mstr\u001b[0m\u001b[1;33m,\u001b[0m \u001b[0mvalue\u001b[0m\u001b[1;33m)\u001b[0m \u001b[1;33m->\u001b[0m \u001b[1;32mNone\u001b[0m\u001b[1;33m:\u001b[0m\u001b[1;33m\u001b[0m\u001b[1;33m\u001b[0m\u001b[0m\n",
      "\u001b[1;32m~\\anaconda3\\lib\\site-packages\\pandas\\core\\accessor.py\u001b[0m in \u001b[0;36m__get__\u001b[1;34m(self, obj, cls)\u001b[0m\n\u001b[0;32m    179\u001b[0m             \u001b[1;31m# we're accessing the attribute of the class, i.e., Dataset.geo\u001b[0m\u001b[1;33m\u001b[0m\u001b[1;33m\u001b[0m\u001b[0m\n\u001b[0;32m    180\u001b[0m             \u001b[1;32mreturn\u001b[0m \u001b[0mself\u001b[0m\u001b[1;33m.\u001b[0m\u001b[0m_accessor\u001b[0m\u001b[1;33m\u001b[0m\u001b[1;33m\u001b[0m\u001b[0m\n\u001b[1;32m--> 181\u001b[1;33m         \u001b[0maccessor_obj\u001b[0m \u001b[1;33m=\u001b[0m \u001b[0mself\u001b[0m\u001b[1;33m.\u001b[0m\u001b[0m_accessor\u001b[0m\u001b[1;33m(\u001b[0m\u001b[0mobj\u001b[0m\u001b[1;33m)\u001b[0m\u001b[1;33m\u001b[0m\u001b[1;33m\u001b[0m\u001b[0m\n\u001b[0m\u001b[0;32m    182\u001b[0m         \u001b[1;31m# Replace the property with the accessor object. Inspired by:\u001b[0m\u001b[1;33m\u001b[0m\u001b[1;33m\u001b[0m\u001b[0m\n\u001b[0;32m    183\u001b[0m         \u001b[1;31m# https://www.pydanny.com/cached-property.html\u001b[0m\u001b[1;33m\u001b[0m\u001b[1;33m\u001b[0m\u001b[0m\n",
      "\u001b[1;32m~\\anaconda3\\lib\\site-packages\\pandas\\core\\indexes\\accessors.py\u001b[0m in \u001b[0;36m__new__\u001b[1;34m(cls, data)\u001b[0m\n\u001b[0;32m    504\u001b[0m             \u001b[1;32mreturn\u001b[0m \u001b[0mPeriodProperties\u001b[0m\u001b[1;33m(\u001b[0m\u001b[0mdata\u001b[0m\u001b[1;33m,\u001b[0m \u001b[0morig\u001b[0m\u001b[1;33m)\u001b[0m\u001b[1;33m\u001b[0m\u001b[1;33m\u001b[0m\u001b[0m\n\u001b[0;32m    505\u001b[0m \u001b[1;33m\u001b[0m\u001b[0m\n\u001b[1;32m--> 506\u001b[1;33m         \u001b[1;32mraise\u001b[0m \u001b[0mAttributeError\u001b[0m\u001b[1;33m(\u001b[0m\u001b[1;34m\"Can only use .dt accessor with datetimelike values\"\u001b[0m\u001b[1;33m)\u001b[0m\u001b[1;33m\u001b[0m\u001b[1;33m\u001b[0m\u001b[0m\n\u001b[0m",
      "\u001b[1;31mAttributeError\u001b[0m: Can only use .dt accessor with datetimelike values"
     ]
    }
   ],
   "source": [
    "df['Date'] = df['Date'].dt.strftime('%d-%m%Y')"
   ]
  },
  {
   "cell_type": "code",
   "execution_count": 89,
   "id": "79abfe48-e699-4f90-95fb-d9596fd1dad3",
   "metadata": {},
   "outputs": [
    {
     "ename": "ValueError",
     "evalue": "time data 23/03/2022 doesn't match format specified",
     "output_type": "error",
     "traceback": [
      "\u001b[1;31m---------------------------------------------------------------------------\u001b[0m",
      "\u001b[1;31mTypeError\u001b[0m                                 Traceback (most recent call last)",
      "\u001b[1;32m~\\anaconda3\\lib\\site-packages\\pandas\\core\\arrays\\datetimes.py\u001b[0m in \u001b[0;36mobjects_to_datetime64ns\u001b[1;34m(data, dayfirst, yearfirst, utc, errors, require_iso8601, allow_object, allow_mixed)\u001b[0m\n\u001b[0;32m   2186\u001b[0m         \u001b[1;32mtry\u001b[0m\u001b[1;33m:\u001b[0m\u001b[1;33m\u001b[0m\u001b[1;33m\u001b[0m\u001b[0m\n\u001b[1;32m-> 2187\u001b[1;33m             \u001b[0mvalues\u001b[0m\u001b[1;33m,\u001b[0m \u001b[0mtz_parsed\u001b[0m \u001b[1;33m=\u001b[0m \u001b[0mconversion\u001b[0m\u001b[1;33m.\u001b[0m\u001b[0mdatetime_to_datetime64\u001b[0m\u001b[1;33m(\u001b[0m\u001b[0mdata\u001b[0m\u001b[1;33m.\u001b[0m\u001b[0mravel\u001b[0m\u001b[1;33m(\u001b[0m\u001b[1;34m\"K\"\u001b[0m\u001b[1;33m)\u001b[0m\u001b[1;33m)\u001b[0m\u001b[1;33m\u001b[0m\u001b[1;33m\u001b[0m\u001b[0m\n\u001b[0m\u001b[0;32m   2188\u001b[0m             \u001b[1;31m# If tzaware, these values represent unix timestamps, so we\u001b[0m\u001b[1;33m\u001b[0m\u001b[1;33m\u001b[0m\u001b[0m\n",
      "\u001b[1;32m~\\anaconda3\\lib\\site-packages\\pandas\\_libs\\tslibs\\conversion.pyx\u001b[0m in \u001b[0;36mpandas._libs.tslibs.conversion.datetime_to_datetime64\u001b[1;34m()\u001b[0m\n",
      "\u001b[1;31mTypeError\u001b[0m: Unrecognized value type: <class 'str'>",
      "\nDuring handling of the above exception, another exception occurred:\n",
      "\u001b[1;31mValueError\u001b[0m                                Traceback (most recent call last)",
      "\u001b[1;32m~\\AppData\\Local\\Temp/ipykernel_6016/686633587.py\u001b[0m in \u001b[0;36m<module>\u001b[1;34m\u001b[0m\n\u001b[1;32m----> 1\u001b[1;33m \u001b[0mdf\u001b[0m\u001b[1;33m[\u001b[0m\u001b[1;34m'Date'\u001b[0m\u001b[1;33m]\u001b[0m \u001b[1;33m=\u001b[0m \u001b[0mpd\u001b[0m\u001b[1;33m.\u001b[0m\u001b[0mto_datetime\u001b[0m\u001b[1;33m(\u001b[0m\u001b[0mdf\u001b[0m\u001b[1;33m.\u001b[0m\u001b[0mDate\u001b[0m\u001b[1;33m,\u001b[0m \u001b[0mformat\u001b[0m\u001b[1;33m=\u001b[0m\u001b[1;34m'%Y-%m-%d'\u001b[0m\u001b[1;33m)\u001b[0m\u001b[1;33m\u001b[0m\u001b[1;33m\u001b[0m\u001b[0m\n\u001b[0m",
      "\u001b[1;32m~\\anaconda3\\lib\\site-packages\\pandas\\core\\tools\\datetimes.py\u001b[0m in \u001b[0;36mto_datetime\u001b[1;34m(arg, errors, dayfirst, yearfirst, utc, format, exact, unit, infer_datetime_format, origin, cache)\u001b[0m\n\u001b[0;32m    881\u001b[0m                 \u001b[0mresult\u001b[0m \u001b[1;33m=\u001b[0m \u001b[0mresult\u001b[0m\u001b[1;33m.\u001b[0m\u001b[0mtz_localize\u001b[0m\u001b[1;33m(\u001b[0m\u001b[0mtz\u001b[0m\u001b[1;33m)\u001b[0m  \u001b[1;31m# type: ignore[call-arg]\u001b[0m\u001b[1;33m\u001b[0m\u001b[1;33m\u001b[0m\u001b[0m\n\u001b[0;32m    882\u001b[0m     \u001b[1;32melif\u001b[0m \u001b[0misinstance\u001b[0m\u001b[1;33m(\u001b[0m\u001b[0marg\u001b[0m\u001b[1;33m,\u001b[0m \u001b[0mABCSeries\u001b[0m\u001b[1;33m)\u001b[0m\u001b[1;33m:\u001b[0m\u001b[1;33m\u001b[0m\u001b[1;33m\u001b[0m\u001b[0m\n\u001b[1;32m--> 883\u001b[1;33m         \u001b[0mcache_array\u001b[0m \u001b[1;33m=\u001b[0m \u001b[0m_maybe_cache\u001b[0m\u001b[1;33m(\u001b[0m\u001b[0marg\u001b[0m\u001b[1;33m,\u001b[0m \u001b[0mformat\u001b[0m\u001b[1;33m,\u001b[0m \u001b[0mcache\u001b[0m\u001b[1;33m,\u001b[0m \u001b[0mconvert_listlike\u001b[0m\u001b[1;33m)\u001b[0m\u001b[1;33m\u001b[0m\u001b[1;33m\u001b[0m\u001b[0m\n\u001b[0m\u001b[0;32m    884\u001b[0m         \u001b[1;32mif\u001b[0m \u001b[1;32mnot\u001b[0m \u001b[0mcache_array\u001b[0m\u001b[1;33m.\u001b[0m\u001b[0mempty\u001b[0m\u001b[1;33m:\u001b[0m\u001b[1;33m\u001b[0m\u001b[1;33m\u001b[0m\u001b[0m\n\u001b[0;32m    885\u001b[0m             \u001b[0mresult\u001b[0m \u001b[1;33m=\u001b[0m \u001b[0marg\u001b[0m\u001b[1;33m.\u001b[0m\u001b[0mmap\u001b[0m\u001b[1;33m(\u001b[0m\u001b[0mcache_array\u001b[0m\u001b[1;33m)\u001b[0m\u001b[1;33m\u001b[0m\u001b[1;33m\u001b[0m\u001b[0m\n",
      "\u001b[1;32m~\\anaconda3\\lib\\site-packages\\pandas\\core\\tools\\datetimes.py\u001b[0m in \u001b[0;36m_maybe_cache\u001b[1;34m(arg, format, cache, convert_listlike)\u001b[0m\n\u001b[0;32m    193\u001b[0m         \u001b[0munique_dates\u001b[0m \u001b[1;33m=\u001b[0m \u001b[0munique\u001b[0m\u001b[1;33m(\u001b[0m\u001b[0marg\u001b[0m\u001b[1;33m)\u001b[0m\u001b[1;33m\u001b[0m\u001b[1;33m\u001b[0m\u001b[0m\n\u001b[0;32m    194\u001b[0m         \u001b[1;32mif\u001b[0m \u001b[0mlen\u001b[0m\u001b[1;33m(\u001b[0m\u001b[0munique_dates\u001b[0m\u001b[1;33m)\u001b[0m \u001b[1;33m<\u001b[0m \u001b[0mlen\u001b[0m\u001b[1;33m(\u001b[0m\u001b[0marg\u001b[0m\u001b[1;33m)\u001b[0m\u001b[1;33m:\u001b[0m\u001b[1;33m\u001b[0m\u001b[1;33m\u001b[0m\u001b[0m\n\u001b[1;32m--> 195\u001b[1;33m             \u001b[0mcache_dates\u001b[0m \u001b[1;33m=\u001b[0m \u001b[0mconvert_listlike\u001b[0m\u001b[1;33m(\u001b[0m\u001b[0munique_dates\u001b[0m\u001b[1;33m,\u001b[0m \u001b[0mformat\u001b[0m\u001b[1;33m)\u001b[0m\u001b[1;33m\u001b[0m\u001b[1;33m\u001b[0m\u001b[0m\n\u001b[0m\u001b[0;32m    196\u001b[0m             \u001b[0mcache_array\u001b[0m \u001b[1;33m=\u001b[0m \u001b[0mSeries\u001b[0m\u001b[1;33m(\u001b[0m\u001b[0mcache_dates\u001b[0m\u001b[1;33m,\u001b[0m \u001b[0mindex\u001b[0m\u001b[1;33m=\u001b[0m\u001b[0munique_dates\u001b[0m\u001b[1;33m)\u001b[0m\u001b[1;33m\u001b[0m\u001b[1;33m\u001b[0m\u001b[0m\n\u001b[0;32m    197\u001b[0m             \u001b[1;31m# GH#39882 and GH#35888 in case of None and NaT we get duplicates\u001b[0m\u001b[1;33m\u001b[0m\u001b[1;33m\u001b[0m\u001b[0m\n",
      "\u001b[1;32m~\\anaconda3\\lib\\site-packages\\pandas\\core\\tools\\datetimes.py\u001b[0m in \u001b[0;36m_convert_listlike_datetimes\u001b[1;34m(arg, format, name, tz, unit, errors, infer_datetime_format, dayfirst, yearfirst, exact)\u001b[0m\n\u001b[0;32m    399\u001b[0m     \u001b[1;32massert\u001b[0m \u001b[0mformat\u001b[0m \u001b[1;32mis\u001b[0m \u001b[1;32mNone\u001b[0m \u001b[1;32mor\u001b[0m \u001b[0minfer_datetime_format\u001b[0m\u001b[1;33m\u001b[0m\u001b[1;33m\u001b[0m\u001b[0m\n\u001b[0;32m    400\u001b[0m     \u001b[0mutc\u001b[0m \u001b[1;33m=\u001b[0m \u001b[0mtz\u001b[0m \u001b[1;33m==\u001b[0m \u001b[1;34m\"utc\"\u001b[0m\u001b[1;33m\u001b[0m\u001b[1;33m\u001b[0m\u001b[0m\n\u001b[1;32m--> 401\u001b[1;33m     result, tz_parsed = objects_to_datetime64ns(\n\u001b[0m\u001b[0;32m    402\u001b[0m         \u001b[0marg\u001b[0m\u001b[1;33m,\u001b[0m\u001b[1;33m\u001b[0m\u001b[1;33m\u001b[0m\u001b[0m\n\u001b[0;32m    403\u001b[0m         \u001b[0mdayfirst\u001b[0m\u001b[1;33m=\u001b[0m\u001b[0mdayfirst\u001b[0m\u001b[1;33m,\u001b[0m\u001b[1;33m\u001b[0m\u001b[1;33m\u001b[0m\u001b[0m\n",
      "\u001b[1;32m~\\anaconda3\\lib\\site-packages\\pandas\\core\\arrays\\datetimes.py\u001b[0m in \u001b[0;36mobjects_to_datetime64ns\u001b[1;34m(data, dayfirst, yearfirst, utc, errors, require_iso8601, allow_object, allow_mixed)\u001b[0m\n\u001b[0;32m   2191\u001b[0m             \u001b[1;32mreturn\u001b[0m \u001b[0mvalues\u001b[0m\u001b[1;33m.\u001b[0m\u001b[0mview\u001b[0m\u001b[1;33m(\u001b[0m\u001b[1;34m\"i8\"\u001b[0m\u001b[1;33m)\u001b[0m\u001b[1;33m,\u001b[0m \u001b[0mtz_parsed\u001b[0m\u001b[1;33m\u001b[0m\u001b[1;33m\u001b[0m\u001b[0m\n\u001b[0;32m   2192\u001b[0m         \u001b[1;32mexcept\u001b[0m \u001b[1;33m(\u001b[0m\u001b[0mValueError\u001b[0m\u001b[1;33m,\u001b[0m \u001b[0mTypeError\u001b[0m\u001b[1;33m)\u001b[0m\u001b[1;33m:\u001b[0m\u001b[1;33m\u001b[0m\u001b[1;33m\u001b[0m\u001b[0m\n\u001b[1;32m-> 2193\u001b[1;33m             \u001b[1;32mraise\u001b[0m \u001b[0merr\u001b[0m\u001b[1;33m\u001b[0m\u001b[1;33m\u001b[0m\u001b[0m\n\u001b[0m\u001b[0;32m   2194\u001b[0m \u001b[1;33m\u001b[0m\u001b[0m\n\u001b[0;32m   2195\u001b[0m     \u001b[1;32mif\u001b[0m \u001b[0mtz_parsed\u001b[0m \u001b[1;32mis\u001b[0m \u001b[1;32mnot\u001b[0m \u001b[1;32mNone\u001b[0m\u001b[1;33m:\u001b[0m\u001b[1;33m\u001b[0m\u001b[1;33m\u001b[0m\u001b[0m\n",
      "\u001b[1;32m~\\anaconda3\\lib\\site-packages\\pandas\\core\\arrays\\datetimes.py\u001b[0m in \u001b[0;36mobjects_to_datetime64ns\u001b[1;34m(data, dayfirst, yearfirst, utc, errors, require_iso8601, allow_object, allow_mixed)\u001b[0m\n\u001b[0;32m   2173\u001b[0m     \u001b[0morder\u001b[0m\u001b[1;33m:\u001b[0m \u001b[0mLiteral\u001b[0m\u001b[1;33m[\u001b[0m\u001b[1;34m\"F\"\u001b[0m\u001b[1;33m,\u001b[0m \u001b[1;34m\"C\"\u001b[0m\u001b[1;33m]\u001b[0m \u001b[1;33m=\u001b[0m \u001b[1;34m\"F\"\u001b[0m \u001b[1;32mif\u001b[0m \u001b[0mflags\u001b[0m\u001b[1;33m.\u001b[0m\u001b[0mf_contiguous\u001b[0m \u001b[1;32melse\u001b[0m \u001b[1;34m\"C\"\u001b[0m\u001b[1;33m\u001b[0m\u001b[1;33m\u001b[0m\u001b[0m\n\u001b[0;32m   2174\u001b[0m     \u001b[1;32mtry\u001b[0m\u001b[1;33m:\u001b[0m\u001b[1;33m\u001b[0m\u001b[1;33m\u001b[0m\u001b[0m\n\u001b[1;32m-> 2175\u001b[1;33m         result, tz_parsed = tslib.array_to_datetime(\n\u001b[0m\u001b[0;32m   2176\u001b[0m             \u001b[0mdata\u001b[0m\u001b[1;33m.\u001b[0m\u001b[0mravel\u001b[0m\u001b[1;33m(\u001b[0m\u001b[1;34m\"K\"\u001b[0m\u001b[1;33m)\u001b[0m\u001b[1;33m,\u001b[0m\u001b[1;33m\u001b[0m\u001b[1;33m\u001b[0m\u001b[0m\n\u001b[0;32m   2177\u001b[0m             \u001b[0merrors\u001b[0m\u001b[1;33m=\u001b[0m\u001b[0merrors\u001b[0m\u001b[1;33m,\u001b[0m\u001b[1;33m\u001b[0m\u001b[1;33m\u001b[0m\u001b[0m\n",
      "\u001b[1;32m~\\anaconda3\\lib\\site-packages\\pandas\\_libs\\tslib.pyx\u001b[0m in \u001b[0;36mpandas._libs.tslib.array_to_datetime\u001b[1;34m()\u001b[0m\n",
      "\u001b[1;32m~\\anaconda3\\lib\\site-packages\\pandas\\_libs\\tslib.pyx\u001b[0m in \u001b[0;36mpandas._libs.tslib.array_to_datetime\u001b[1;34m()\u001b[0m\n",
      "\u001b[1;31mValueError\u001b[0m: time data 23/03/2022 doesn't match format specified"
     ]
    }
   ],
   "source": [
    "df['Date'] = pd.to_datetime(df.Date, format='%Y-%m-%d')"
   ]
  },
  {
   "cell_type": "markdown",
   "id": "d8dedadf-cee5-4369-95ec-1cdc0d3ba7ac",
   "metadata": {
    "tags": []
   },
   "source": [
    "##### Adding month column"
   ]
  },
  {
   "cell_type": "code",
   "execution_count": 94,
   "id": "27591c79-12d9-47a2-a07f-55b42bbb00b1",
   "metadata": {
    "tags": []
   },
   "outputs": [
    {
     "data": {
      "text/html": [
       "<div>\n",
       "<style scoped>\n",
       "    .dataframe tbody tr th:only-of-type {\n",
       "        vertical-align: middle;\n",
       "    }\n",
       "\n",
       "    .dataframe tbody tr th {\n",
       "        vertical-align: top;\n",
       "    }\n",
       "\n",
       "    .dataframe thead th {\n",
       "        text-align: right;\n",
       "    }\n",
       "</style>\n",
       "<table border=\"1\" class=\"dataframe\">\n",
       "  <thead>\n",
       "    <tr style=\"text-align: right;\">\n",
       "      <th></th>\n",
       "      <th>Sale ID</th>\n",
       "      <th>User</th>\n",
       "      <th>User name</th>\n",
       "      <th>User last name</th>\n",
       "      <th>Time</th>\n",
       "      <th>Date</th>\n",
       "      <th>Outlet ID</th>\n",
       "      <th>Outlet</th>\n",
       "      <th>TIN</th>\n",
       "      <th>Outlet Segment</th>\n",
       "      <th>...</th>\n",
       "      <th>District</th>\n",
       "      <th>Price without VAT</th>\n",
       "      <th>Vat</th>\n",
       "      <th>Price with VAT</th>\n",
       "      <th>Item name</th>\n",
       "      <th>Item quantity</th>\n",
       "      <th>Item price without VAT</th>\n",
       "      <th>Item VAT</th>\n",
       "      <th>Item price with VAT</th>\n",
       "      <th>Month</th>\n",
       "    </tr>\n",
       "  </thead>\n",
       "  <tbody>\n",
       "    <tr>\n",
       "      <th>81396</th>\n",
       "      <td>61d1488d2cea787beff9642f</td>\n",
       "      <td>lamrot.werkineh</td>\n",
       "      <td>Lamrot</td>\n",
       "      <td>Werkineh</td>\n",
       "      <td>7:12</td>\n",
       "      <td>1/1/2022</td>\n",
       "      <td>6159f38bbab1dd88bd6a2827</td>\n",
       "      <td>Addis Adama Butchery</td>\n",
       "      <td>36781935</td>\n",
       "      <td>Star Hotels</td>\n",
       "      <td>...</td>\n",
       "      <td>East District</td>\n",
       "      <td>526.09</td>\n",
       "      <td>78.91</td>\n",
       "      <td>605.0</td>\n",
       "      <td>PG</td>\n",
       "      <td>1</td>\n",
       "      <td>526.09</td>\n",
       "      <td>78.91</td>\n",
       "      <td>605.0</td>\n",
       "      <td>1</td>\n",
       "    </tr>\n",
       "    <tr>\n",
       "      <th>81397</th>\n",
       "      <td>61d0210a2cea787beff95976</td>\n",
       "      <td>tenaye.gebru</td>\n",
       "      <td>Tenaye</td>\n",
       "      <td>Gebru</td>\n",
       "      <td>6:56</td>\n",
       "      <td>1/1/2022</td>\n",
       "      <td>6159f38bbab1dd88bd6a47b0</td>\n",
       "      <td>welifetana  Bar&amp;res</td>\n",
       "      <td>57286132</td>\n",
       "      <td>Star Hotels</td>\n",
       "      <td>...</td>\n",
       "      <td>ADDIS ABABA</td>\n",
       "      <td>526.09</td>\n",
       "      <td>78.91</td>\n",
       "      <td>605.0</td>\n",
       "      <td>Lime</td>\n",
       "      <td>1</td>\n",
       "      <td>526.09</td>\n",
       "      <td>78.91</td>\n",
       "      <td>605.0</td>\n",
       "      <td>1</td>\n",
       "    </tr>\n",
       "    <tr>\n",
       "      <th>81398</th>\n",
       "      <td>61d1488d2cea787beff9642d</td>\n",
       "      <td>lamrot.werkineh</td>\n",
       "      <td>Lamrot</td>\n",
       "      <td>Werkineh</td>\n",
       "      <td>6:51</td>\n",
       "      <td>1/1/2022</td>\n",
       "      <td>6159f38bbab1dd88bd6a3cd8</td>\n",
       "      <td>Meseret Grocery</td>\n",
       "      <td>0</td>\n",
       "      <td>Star Hotels</td>\n",
       "      <td>...</td>\n",
       "      <td>East District</td>\n",
       "      <td>526.09</td>\n",
       "      <td>78.91</td>\n",
       "      <td>605.0</td>\n",
       "      <td>Lime</td>\n",
       "      <td>1</td>\n",
       "      <td>526.09</td>\n",
       "      <td>78.91</td>\n",
       "      <td>605.0</td>\n",
       "      <td>1</td>\n",
       "    </tr>\n",
       "    <tr>\n",
       "      <th>81399</th>\n",
       "      <td>61d1488d2cea787beff9642b</td>\n",
       "      <td>lamrot.werkineh</td>\n",
       "      <td>Lamrot</td>\n",
       "      <td>Werkineh</td>\n",
       "      <td>6:47</td>\n",
       "      <td>1/1/2022</td>\n",
       "      <td>6159f38bbab1dd88bd6a3013</td>\n",
       "      <td>Dewasen</td>\n",
       "      <td>48653016</td>\n",
       "      <td>Bar And Restaurant</td>\n",
       "      <td>...</td>\n",
       "      <td>East District</td>\n",
       "      <td>2104.36</td>\n",
       "      <td>315.64</td>\n",
       "      <td>2420.0</td>\n",
       "      <td>Apple</td>\n",
       "      <td>1</td>\n",
       "      <td>526.09</td>\n",
       "      <td>78.91</td>\n",
       "      <td>605.0</td>\n",
       "      <td>1</td>\n",
       "    </tr>\n",
       "    <tr>\n",
       "      <th>81400</th>\n",
       "      <td>61d1488d2cea787beff9642b</td>\n",
       "      <td>lamrot.werkineh</td>\n",
       "      <td>Lamrot</td>\n",
       "      <td>Werkineh</td>\n",
       "      <td>6:47</td>\n",
       "      <td>1/1/2022</td>\n",
       "      <td>6159f38bbab1dd88bd6a3013</td>\n",
       "      <td>Dewasen</td>\n",
       "      <td>48653016</td>\n",
       "      <td>Bar And Restaurant</td>\n",
       "      <td>...</td>\n",
       "      <td>East District</td>\n",
       "      <td>2104.36</td>\n",
       "      <td>315.64</td>\n",
       "      <td>2420.0</td>\n",
       "      <td>Lime</td>\n",
       "      <td>3</td>\n",
       "      <td>1578.27</td>\n",
       "      <td>236.73</td>\n",
       "      <td>1815.0</td>\n",
       "      <td>1</td>\n",
       "    </tr>\n",
       "  </tbody>\n",
       "</table>\n",
       "<p>5 rows × 23 columns</p>\n",
       "</div>"
      ],
      "text/plain": [
       "                        Sale ID             User User name User last name  \\\n",
       "81396  61d1488d2cea787beff9642f  lamrot.werkineh    Lamrot       Werkineh   \n",
       "81397  61d0210a2cea787beff95976     tenaye.gebru    Tenaye          Gebru   \n",
       "81398  61d1488d2cea787beff9642d  lamrot.werkineh    Lamrot       Werkineh   \n",
       "81399  61d1488d2cea787beff9642b  lamrot.werkineh    Lamrot       Werkineh   \n",
       "81400  61d1488d2cea787beff9642b  lamrot.werkineh    Lamrot       Werkineh   \n",
       "\n",
       "       Time      Date                 Outlet ID                 Outlet  \\\n",
       "81396  7:12  1/1/2022  6159f38bbab1dd88bd6a2827  Addis Adama Butchery    \n",
       "81397  6:56  1/1/2022  6159f38bbab1dd88bd6a47b0    welifetana  Bar&res   \n",
       "81398  6:51  1/1/2022  6159f38bbab1dd88bd6a3cd8       Meseret Grocery    \n",
       "81399  6:47  1/1/2022  6159f38bbab1dd88bd6a3013                Dewasen   \n",
       "81400  6:47  1/1/2022  6159f38bbab1dd88bd6a3013                Dewasen   \n",
       "\n",
       "            TIN      Outlet Segment  ...        District Price without VAT  \\\n",
       "81396  36781935         Star Hotels  ...  East District             526.09   \n",
       "81397  57286132         Star Hotels  ...     ADDIS ABABA            526.09   \n",
       "81398         0         Star Hotels  ...  East District             526.09   \n",
       "81399  48653016  Bar And Restaurant  ...  East District            2104.36   \n",
       "81400  48653016  Bar And Restaurant  ...  East District            2104.36   \n",
       "\n",
       "          Vat Price with VAT  Item name  Item quantity  \\\n",
       "81396   78.91          605.0         PG              1   \n",
       "81397   78.91          605.0       Lime              1   \n",
       "81398   78.91          605.0       Lime              1   \n",
       "81399  315.64         2420.0      Apple              1   \n",
       "81400  315.64         2420.0       Lime              3   \n",
       "\n",
       "       Item price without VAT Item VAT  Item price with VAT  Month  \n",
       "81396                  526.09    78.91                605.0      1  \n",
       "81397                  526.09    78.91                605.0      1  \n",
       "81398                  526.09    78.91                605.0      1  \n",
       "81399                  526.09    78.91                605.0      1  \n",
       "81400                 1578.27   236.73               1815.0      1  \n",
       "\n",
       "[5 rows x 23 columns]"
      ]
     },
     "execution_count": 94,
     "metadata": {},
     "output_type": "execute_result"
    }
   ],
   "source": [
    "df['Month'] = df['Date'].str[0:1]\n",
    "df['Month'] = pd.to_numeric(df['Month'])\n",
    "df.tail()"
   ]
  },
  {
   "cell_type": "markdown",
   "id": "4d92287e-877b-4570-9ed6-cc82735478d9",
   "metadata": {},
   "source": [
    "# Data Exploration!"
   ]
  },
  {
   "cell_type": "markdown",
   "id": "8399a228-fb93-43f5-a0c1-3d8fa614f617",
   "metadata": {},
   "source": [
    "##### Question 1: What was the best month for sales? How much was earned that month?"
   ]
  },
  {
   "cell_type": "code",
   "execution_count": 95,
   "id": "3949b48d-bd02-4aec-94d7-87ba15d73414",
   "metadata": {},
   "outputs": [],
   "source": [
    "df['Sales'] = df['Item quantity'].astype('int') * df['Item price with VAT'].astype('float')"
   ]
  },
  {
   "cell_type": "code",
   "execution_count": 96,
   "id": "640c7bb1-4e6a-4cf8-8e33-48bef5be8477",
   "metadata": {},
   "outputs": [
    {
     "data": {
      "text/html": [
       "<div>\n",
       "<style scoped>\n",
       "    .dataframe tbody tr th:only-of-type {\n",
       "        vertical-align: middle;\n",
       "    }\n",
       "\n",
       "    .dataframe tbody tr th {\n",
       "        vertical-align: top;\n",
       "    }\n",
       "\n",
       "    .dataframe thead th {\n",
       "        text-align: right;\n",
       "    }\n",
       "</style>\n",
       "<table border=\"1\" class=\"dataframe\">\n",
       "  <thead>\n",
       "    <tr style=\"text-align: right;\">\n",
       "      <th></th>\n",
       "      <th>Price without VAT</th>\n",
       "      <th>Vat</th>\n",
       "      <th>Price with VAT</th>\n",
       "      <th>Item quantity</th>\n",
       "      <th>Item price without VAT</th>\n",
       "      <th>Item VAT</th>\n",
       "      <th>Item price with VAT</th>\n",
       "      <th>Sales</th>\n",
       "    </tr>\n",
       "    <tr>\n",
       "      <th>Month</th>\n",
       "      <th></th>\n",
       "      <th></th>\n",
       "      <th></th>\n",
       "      <th></th>\n",
       "      <th></th>\n",
       "      <th></th>\n",
       "      <th></th>\n",
       "      <th></th>\n",
       "    </tr>\n",
       "  </thead>\n",
       "  <tbody>\n",
       "    <tr>\n",
       "      <th>1</th>\n",
       "      <td>8.487520e+07</td>\n",
       "      <td>12730198.20</td>\n",
       "      <td>9.760540e+07</td>\n",
       "      <td>93517</td>\n",
       "      <td>32337429.42</td>\n",
       "      <td>4850272.58</td>\n",
       "      <td>37187702.00</td>\n",
       "      <td>3.473984e+08</td>\n",
       "    </tr>\n",
       "    <tr>\n",
       "      <th>2</th>\n",
       "      <td>1.114147e+08</td>\n",
       "      <td>16710510.69</td>\n",
       "      <td>1.281252e+08</td>\n",
       "      <td>141277</td>\n",
       "      <td>43340471.69</td>\n",
       "      <td>6500549.63</td>\n",
       "      <td>49841021.32</td>\n",
       "      <td>5.081665e+08</td>\n",
       "    </tr>\n",
       "    <tr>\n",
       "      <th>3</th>\n",
       "      <td>7.340483e+07</td>\n",
       "      <td>11009607.42</td>\n",
       "      <td>8.441444e+07</td>\n",
       "      <td>92496</td>\n",
       "      <td>28457109.95</td>\n",
       "      <td>4268225.04</td>\n",
       "      <td>32725334.99</td>\n",
       "      <td>3.554538e+08</td>\n",
       "    </tr>\n",
       "  </tbody>\n",
       "</table>\n",
       "</div>"
      ],
      "text/plain": [
       "       Price without VAT          Vat  Price with VAT  Item quantity  \\\n",
       "Month                                                                  \n",
       "1           8.487520e+07  12730198.20    9.760540e+07          93517   \n",
       "2           1.114147e+08  16710510.69    1.281252e+08         141277   \n",
       "3           7.340483e+07  11009607.42    8.441444e+07          92496   \n",
       "\n",
       "       Item price without VAT    Item VAT  Item price with VAT         Sales  \n",
       "Month                                                                         \n",
       "1                 32337429.42  4850272.58          37187702.00  3.473984e+08  \n",
       "2                 43340471.69  6500549.63          49841021.32  5.081665e+08  \n",
       "3                 28457109.95  4268225.04          32725334.99  3.554538e+08  "
      ]
     },
     "execution_count": 96,
     "metadata": {},
     "output_type": "execute_result"
    }
   ],
   "source": [
    "df.groupby(['Month']).sum()"
   ]
  },
  {
   "cell_type": "code",
   "execution_count": 59,
   "id": "60cb7fc1-afcc-4809-aac5-62839f5916f0",
   "metadata": {},
   "outputs": [],
   "source": [
    "df.drop(\"Year\", axis=1, inplace=True)"
   ]
  },
  {
   "cell_type": "code",
   "execution_count": 97,
   "id": "c1c15742-6c0a-4e89-a90a-03bc293b8be6",
   "metadata": {},
   "outputs": [
    {
     "name": "stdout",
     "output_type": "stream",
     "text": [
      "range(1, 4)\n"
     ]
    },
    {
     "data": {
      "image/png": "[encoded data removed]",
      "text/plain": [
       "<Figure size 432x288 with 1 Axes>"
      ]
     },
     "metadata": {
      "needs_background": "light"
     },
     "output_type": "display_data"
    }
   ],
   "source": [
    "months = range(1,4)\n",
    "print(months)\n",
    "\n",
    "plt.bar(months,df.groupby(['Month']).sum()['Sales'])\n",
    "plt.xticks(months)\n",
    "plt.ylabel('Total Crates')\n",
    "plt.xlabel('Month number')\n",
    "plt.show()"
   ]
  },
  {
   "cell_type": "markdown",
   "id": "79f4e3f7-1d00-4343-9876-67ca3f6ef3b5",
   "metadata": {},
   "source": [
    "#### Question 2: What Territory sold the most product?"
   ]
  },
  {
   "cell_type": "code",
   "execution_count": 99,
   "id": "1c1ff8bf-063d-4635-a5fc-25d0eb67c810",
   "metadata": {},
   "outputs": [
    {
     "data": {
      "text/html": [
       "<div>\n",
       "<style scoped>\n",
       "    .dataframe tbody tr th:only-of-type {\n",
       "        vertical-align: middle;\n",
       "    }\n",
       "\n",
       "    .dataframe tbody tr th {\n",
       "        vertical-align: top;\n",
       "    }\n",
       "\n",
       "    .dataframe thead th {\n",
       "        text-align: right;\n",
       "    }\n",
       "</style>\n",
       "<table border=\"1\" class=\"dataframe\">\n",
       "  <thead>\n",
       "    <tr style=\"text-align: right;\">\n",
       "      <th></th>\n",
       "      <th>Price without VAT</th>\n",
       "      <th>Vat</th>\n",
       "      <th>Price with VAT</th>\n",
       "      <th>Item quantity</th>\n",
       "      <th>Item price without VAT</th>\n",
       "      <th>Item VAT</th>\n",
       "      <th>Item price with VAT</th>\n",
       "      <th>Month</th>\n",
       "      <th>Sales</th>\n",
       "    </tr>\n",
       "    <tr>\n",
       "      <th>District</th>\n",
       "      <th></th>\n",
       "      <th></th>\n",
       "      <th></th>\n",
       "      <th></th>\n",
       "      <th></th>\n",
       "      <th></th>\n",
       "      <th></th>\n",
       "      <th></th>\n",
       "      <th></th>\n",
       "    </tr>\n",
       "  </thead>\n",
       "  <tbody>\n",
       "    <tr>\n",
       "      <th>ADDIS ABABA</th>\n",
       "      <td>1.652656e+08</td>\n",
       "      <td>24787777.99</td>\n",
       "      <td>190053411.1</td>\n",
       "      <td>187646</td>\n",
       "      <td>65408181.22</td>\n",
       "      <td>9810540.81</td>\n",
       "      <td>75218722.03</td>\n",
       "      <td>96550</td>\n",
       "      <td>5.987003e+08</td>\n",
       "    </tr>\n",
       "    <tr>\n",
       "      <th>East District</th>\n",
       "      <td>4.793052e+07</td>\n",
       "      <td>7188527.60</td>\n",
       "      <td>55119048.0</td>\n",
       "      <td>79133</td>\n",
       "      <td>18758950.77</td>\n",
       "      <td>2813546.23</td>\n",
       "      <td>21572497.00</td>\n",
       "      <td>31448</td>\n",
       "      <td>2.437929e+08</td>\n",
       "    </tr>\n",
       "    <tr>\n",
       "      <th>South District</th>\n",
       "      <td>5.647506e+07</td>\n",
       "      <td>8470492.01</td>\n",
       "      <td>64945553.5</td>\n",
       "      <td>60353</td>\n",
       "      <td>19959511.57</td>\n",
       "      <td>2993705.71</td>\n",
       "      <td>22953217.28</td>\n",
       "      <td>35749</td>\n",
       "      <td>3.684267e+08</td>\n",
       "    </tr>\n",
       "  </tbody>\n",
       "</table>\n",
       "</div>"
      ],
      "text/plain": [
       "                 Price without VAT          Vat  Price with VAT  \\\n",
       "District                                                          \n",
       "ADDIS ABABA           1.652656e+08  24787777.99     190053411.1   \n",
       "East District         4.793052e+07   7188527.60      55119048.0   \n",
       "South District        5.647506e+07   8470492.01      64945553.5   \n",
       "\n",
       "                 Item quantity  Item price without VAT    Item VAT  \\\n",
       "District                                                             \n",
       "ADDIS ABABA             187646             65408181.22  9810540.81   \n",
       "East District            79133             18758950.77  2813546.23   \n",
       "South District           60353             19959511.57  2993705.71   \n",
       "\n",
       "                 Item price with VAT  Month         Sales  \n",
       "District                                                   \n",
       "ADDIS ABABA              75218722.03  96550  5.987003e+08  \n",
       "East District            21572497.00  31448  2.437929e+08  \n",
       "South District           22953217.28  35749  3.684267e+08  "
      ]
     },
     "execution_count": 99,
     "metadata": {},
     "output_type": "execute_result"
    }
   ],
   "source": [
    "df.groupby(['District']).sum()"
   ]
  },
  {
   "cell_type": "code",
   "execution_count": 106,
   "id": "b286f681-5028-417e-b6a9-e4deadcc4980",
   "metadata": {},
   "outputs": [
    {
     "data": {
      "image/png": "[encoded data removed]",
      "text/plain": [
       "<Figure size 432x288 with 1 Axes>"
      ]
     },
     "metadata": {
      "needs_background": "light"
     },
     "output_type": "display_data"
    }
   ],
   "source": [
    "keys = [District for District, df in df.groupby(['District'])]\n",
    "\n",
    "plt.bar(keys,df.groupby(['District']).sum()['Sales'])\n",
    "plt.ylabel('Crates sold')\n",
    "plt.xlabel('Month')\n",
    "plt.xticks(keys, rotation='vertical', size=8)\n",
    "plt.show()"
   ]
  },
  {
   "cell_type": "markdown",
   "id": "4dbe6ea6-38b3-44b3-b509-beb568d3bf12",
   "metadata": {},
   "source": [
    "### Question 4: What products are most often sold together?"
   ]
  },
  {
   "cell_type": "code",
   "execution_count": 110,
   "id": "8fcb7d8f-4d29-4487-bad6-5bcc50326a20",
   "metadata": {},
   "outputs": [
    {
     "name": "stderr",
     "output_type": "stream",
     "text": [
      "C:\\Users\\Fraol\\AppData\\Local\\Temp/ipykernel_6016/1240118231.py:4: SettingWithCopyWarning: \n",
      "A value is trying to be set on a copy of a slice from a DataFrame.\n",
      "Try using .loc[row_indexer,col_indexer] = value instead\n",
      "\n",
      "See the caveats in the documentation: https://pandas.pydata.org/pandas-docs/stable/user_guide/indexing.html#returning-a-view-versus-a-copy\n",
      "  df['Grouped'] = df.groupby('Sale ID')['Item name'].transform(lambda x: ','.join(x))\n"
     ]
    }
   ],
   "source": [
    "df = df[df['Sale ID'].duplicated(keep=False)]\n",
    "\n",
    "\n",
    "df['Grouped'] = df.groupby('Sale ID')['Item name'].transform(lambda x: ','.join(x))\n",
    "df2 = df[['Sale ID', 'Grouped']].drop_duplicates()"
   ]
  },
  {
   "cell_type": "code",
   "execution_count": 111,
   "id": "987be72a-5d57-46f8-aa72-f6d11dabe0f7",
   "metadata": {},
   "outputs": [
    {
     "name": "stdout",
     "output_type": "stream",
     "text": [
      "('Lime', 'PG') 17868\n",
      "('Apple', 'Lime') 14785\n",
      "('Apple', 'PG') 12552\n",
      "('GHL', 'Lime') 3239\n",
      "('GHL', 'PG') 2646\n",
      "('Bottle', 'Lime') 2426\n",
      "('Apple', 'GHL') 2416\n",
      "('Bottle', 'PG') 1536\n",
      "('Apple', 'Bottle') 1253\n",
      "('Bottle', 'Crate') 713\n"
     ]
    }
   ],
   "source": [
    "from itertools import combinations\n",
    "from collections import Counter\n",
    "\n",
    "count = Counter()\n",
    "\n",
    "for row in df2['Grouped']:\n",
    "    row_list = row.split(',')\n",
    "    count.update(Counter(combinations(row_list, 2)))\n",
    "\n",
    "for key,value in count.most_common(10):\n",
    "    print(key, value)"
   ]
  },
  {
   "cell_type": "markdown",
   "id": "3301eb25-ec65-4c62-8adb-5f178ec1da7a",
   "metadata": {},
   "source": [
    "#### What product sold the most? Why do you think it sold the most?"
   ]
  },
  {
   "cell_type": "code",
   "execution_count": 113,
   "id": "3b6b5ccd-a29b-48f2-a962-cd4ef1165f9e",
   "metadata": {},
   "outputs": [
    {
     "data": {
      "image/png": "[encoded data removed]",
      "text/plain": [
       "<Figure size 432x288 with 1 Axes>"
      ]
     },
     "metadata": {
      "needs_background": "light"
     },
     "output_type": "display_data"
    }
   ],
   "source": [
    "product_group = df.groupby('Item name')\n",
    "quantity_ordered = product_group.sum()['Sales']\n",
    "\n",
    "keys = [pair for pair, df in product_group]\n",
    "plt.bar(keys, quantity_ordered)\n",
    "plt.xticks(keys, rotation='vertical', size=8)\n",
    "plt.show()"
   ]
  },
  {
   "cell_type": "code",
   "execution_count": 118,
   "id": "bb7528fc-34f9-440c-9412-0abb469c97ba",
   "metadata": {},
   "outputs": [
    {
     "name": "stderr",
     "output_type": "stream",
     "text": [
      "C:\\Users\\Fraol\\AppData\\Local\\Temp/ipykernel_6016/1219004266.py:12: UserWarning: FixedFormatter should only be used together with FixedLocator\n",
      "  ax1.set_xticklabels(keys, rotation='vertical', size=8)\n",
      "C:\\Users\\Fraol\\AppData\\Local\\Temp/ipykernel_6016/1219004266.py:14: UserWarning: Matplotlib is currently using module://matplotlib_inline.backend_inline, which is a non-GUI backend, so cannot show the figure.\n",
      "  fig.show()\n"
     ]
    },
    {
     "data": {
      "image/png": "[encoded data removed]",
      "text/plain": [
       "<Figure size 432x288 with 2 Axes>"
      ]
     },
     "metadata": {
      "needs_background": "light"
     },
     "output_type": "display_data"
    }
   ],
   "source": [
    "prices = df.groupby('Item name').mean()['Price with VAT']\n",
    "\n",
    "fig, ax1 = plt.subplots()\n",
    "\n",
    "ax2 = ax1.twinx()\n",
    "ax1.bar(keys, quantity_ordered, color='g')\n",
    "ax2.plot(keys, prices, color='b')\n",
    "\n",
    "ax1.set_xlabel('Item name')\n",
    "ax1.set_ylabel('Item quantity', color='g')\n",
    "ax2.set_ylabel('Price ($)', color='b')\n",
    "ax1.set_xticklabels(keys, rotation='vertical', size=8)\n",
    "\n",
    "fig.show()"
   ]
  },
  {
   "cell_type": "code",
   "execution_count": null,
   "id": "b0d61a33-6406-425c-81c4-8e6f0ea5bc95",
   "metadata": {},
   "outputs": [],
   "source": []
  }
 ],
 "metadata": {
  "kernelspec": {
   "display_name": "Python 3 (ipykernel)",
   "language": "python",
   "name": "python3"
  },
  "language_info": {
   "codemirror_mode": {
    "name": "ipython",
    "version": 3
   },
   "file_extension": ".py",
   "mimetype": "text/x-python",
   "name": "python",
   "nbconvert_exporter": "python",
   "pygments_lexer": "ipython3",
   "version": "3.9.7"
  }
 },
 "nbformat": 4,
 "nbformat_minor": 5
}
